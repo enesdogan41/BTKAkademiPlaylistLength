{
 "cells": [
  {
   "cell_type": "code",
   "execution_count": 8,
   "metadata": {},
   "outputs": [
    {
     "name": "stdout",
     "output_type": "stream",
     "text": [
      "Time : 41.67819023132324\n",
      "Number of a : 19082160\n"
     ]
    }
   ],
   "source": [
    "import time\n",
    "file = open('loremipsum.txt','r')\n",
    "count = 0\n",
    "start = time.time()\n",
    "\n",
    "for line in file.readlines():\n",
    "    sentences = line.split('.')\n",
    "    for sentence in sentences:\n",
    "        if 'a' in sentence:\n",
    "            for word in sentence.split():\n",
    "                if 'a' in word:\n",
    "                    for ele in word:\n",
    "                        if ele == 'a':\n",
    "                            count += 1\n",
    "                            \n",
    "end = time.time()\n",
    "print(f'Time : {end-start}')\n",
    "print(f'Number of a : {count}')"
   ]
  },
  {
   "cell_type": "code",
   "execution_count": 10,
   "metadata": {},
   "outputs": [
    {
     "name": "stdout",
     "output_type": "stream",
     "text": [
      "Time : 2.9903764724731445\n",
      "Number of a : 19082160\n"
     ]
    }
   ],
   "source": [
    "start = time.time()\n",
    "file = open('loremipsum.txt','r')\n",
    "count = 0\n",
    "\n",
    "for line in file.readlines():\n",
    "    count += line.count('a')\n",
    "\n",
    "end = time.time()\n",
    "print(f'Time : {end-start}')\n",
    "print(f'Number of a : {count}')"
   ]
  },
  {
   "cell_type": "code",
   "execution_count": 12,
   "metadata": {},
   "outputs": [
    {
     "name": "stdout",
     "output_type": "stream",
     "text": [
      "Time : 24.657583236694336\n",
      "Number of a : 19082160\n"
     ]
    }
   ],
   "source": [
    "file = open('loremipsum.txt','r')\n",
    "count = 0\n",
    "start = time.time()\n",
    "\n",
    "for line in file.readlines():\n",
    "    sentences = line.split('.')\n",
    "    for sentence in sentences:\n",
    "        if 'a' in sentence:\n",
    "            for word in sentence.split():\n",
    "                if 'a' in word:\n",
    "                    count += word.count('a')\n",
    "                            \n",
    "end = time.time()\n",
    "print(f'Time : {end-start}')\n",
    "print(f'Number of a : {count}')"
   ]
  },
  {
   "cell_type": "code",
   "execution_count": 13,
   "metadata": {},
   "outputs": [
    {
     "name": "stdout",
     "output_type": "stream",
     "text": [
      "Time : 48.00481200218201\n",
      "Number of a : 19082160\n"
     ]
    }
   ],
   "source": [
    "file = open('loremipsum.txt','r')\n",
    "count = 0\n",
    "start = time.time()\n",
    "\n",
    "for line in file.readlines():\n",
    "    for item in line:\n",
    "        if item == 'a':\n",
    "            count += 1\n",
    "            \n",
    "end = time.time()\n",
    "print(f'Time : {end-start}')\n",
    "print(f'Number of a : {count}')"
   ]
  },
  {
   "cell_type": "code",
   "execution_count": null,
   "metadata": {},
   "outputs": [],
   "source": []
  }
 ],
 "metadata": {
  "kernelspec": {
   "display_name": "Python 3",
   "language": "python",
   "name": "python3"
  },
  "language_info": {
   "codemirror_mode": {
    "name": "ipython",
    "version": 3
   },
   "file_extension": ".py",
   "mimetype": "text/x-python",
   "name": "python",
   "nbconvert_exporter": "python",
   "pygments_lexer": "ipython3",
   "version": "3.8.3"
  }
 },
 "nbformat": 4,
 "nbformat_minor": 4
}
