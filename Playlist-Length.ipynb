{
 "cells": [
  {
   "cell_type": "code",
   "execution_count": 1,
   "metadata": {},
   "outputs": [],
   "source": [
    "import requests\n",
    "from selenium import webdriver"
   ]
  },
  {
   "cell_type": "code",
   "execution_count": 7,
   "metadata": {},
   "outputs": [],
   "source": [
    "from selenium.webdriver.chrome.options import Options\n",
    "\n",
    "options = Options()\n",
    "options.headless = True\n",
    "\n",
    "# You should download chromedriver for selenium.\n",
    "driver = webdriver.Chrome(options = options, executable_path = r'C:\\Users\\90545\\Desktop\\chromedriver.exe')\n",
    "driver.get('https://www.btkakademi.gov.tr/portal/course/sitescope-ile-sistem-izleme-11745#!/about')"
   ]
  },
  {
   "cell_type": "code",
   "execution_count": 8,
   "metadata": {},
   "outputs": [],
   "source": [
    "import bs4\n",
    "# You can change the courses as you wish.\n",
    "sitelist = [\n",
    "    'https://www.btkakademi.gov.tr/portal/course/sitescope-ile-sistem-izleme-11745#!/about',\n",
    "    \"https://www.btkakademi.gov.tr/portal/course/java-ile-programlamaya-giris-9617#!/about\",\n",
    "    \"https://www.btkakademi.gov.tr/portal/course/yaz-l-m-tasar-m-desenleri-12150\",\n",
    "    \"https://www.btkakademi.gov.tr/portal/course/r-ile-veri-bilimine-giris-13050\",\n",
    "    \"https://www.btkakademi.gov.tr/portal/course/microsoft-excel-temelleri-13897\",\n",
    "    \"https://www.btkakademi.gov.tr/portal/course/temel-ag-teknolojileri-14711\",\n",
    "    \"https://www.btkakademi.gov.tr/portal/course/uygulamalarla-sql-ogreniyorum-8249\",\n",
    "    \"https://www.btkakademi.gov.tr/portal/course/dogal-dil-islemeye-giris-11864\",\n",
    "    \"https://www.btkakademi.gov.tr/portal/course/sosyal-medya-uzmanl-g-na-giris-10548\",\n",
    "    \"https://www.btkakademi.gov.tr/portal/course/python-ile-makine-ogrenmesi-11800\"\n",
    "]"
   ]
  },
  {
   "cell_type": "code",
   "execution_count": 9,
   "metadata": {},
   "outputs": [],
   "source": [
    "def calculator(item):\n",
    "    print(driver.title)\n",
    "    hours,mins,secs = 0,0,0\n",
    "    for i in driver.find_elements_by_tag_name(\"a:not([href]):not([tabindex])\"):\n",
    "        try:\n",
    "            times = i.text.split(':')\n",
    "            times = times[1].replace(' ','').replace('dk.','|').replace('sn.','')\n",
    "            mins += int(times.split('|')[0])\n",
    "            secs += int(times.split('|')[1])\n",
    "        except:\n",
    "            pass\n",
    "    mins += secs//60\n",
    "    secs //= 60\n",
    "    hours += mins//60\n",
    "    mins //= 60\n",
    "    print(f'The playlist is: {hours}h. {mins}m. {secs}s.')"
   ]
  },
  {
   "cell_type": "code",
   "execution_count": 10,
   "metadata": {},
   "outputs": [],
   "source": [
    "def main():\n",
    "    for site in sitelist:\n",
    "        item = driver.get(site)\n",
    "        calculator(item)\n",
    "        print('--'*15)"
   ]
  },
  {
   "cell_type": "code",
   "execution_count": 11,
   "metadata": {},
   "outputs": [
    {
     "name": "stdout",
     "output_type": "stream",
     "text": [
      "Sitescope ile Sistem İzleme\n",
      "The playlist is: 2h. 2m. 11s.\n",
      "------------------------------\n",
      "JAVA İle Programlamaya Giriş\n",
      "The playlist is: 15h. 15m. 42s.\n",
      "------------------------------\n",
      "Yazılım Tasarım Desenleri\n",
      "The playlist is: 2h. 2m. 15s.\n",
      "------------------------------\n",
      "R ile Veri Bilimine Giriş\n",
      "The playlist is: 8h. 8m. 32s.\n",
      "------------------------------\n",
      "Microsoft Excel Temelleri\n",
      "The playlist is: 10h. 10m. 30s.\n",
      "------------------------------\n",
      "Temel Ağ Teknolojileri\n",
      "The playlist is: 0h. 0m. 0s.\n",
      "------------------------------\n",
      "Uygulamalarla SQL Öğreniyorum\n",
      "The playlist is: 15h. 15m. 42s.\n",
      "------------------------------\n",
      "Doğal Dil İşlemeye Giriş\n",
      "The playlist is: 3h. 3m. 8s.\n",
      "------------------------------\n",
      "Sosyal Medya Uzmanlığına Giriş\n",
      "The playlist is: 0h. 0m. 0s.\n",
      "------------------------------\n",
      "Python ile Makine Öğrenmesi\n",
      "The playlist is: 22h. 22m. 63s.\n",
      "------------------------------\n"
     ]
    }
   ],
   "source": [
    "main()"
   ]
  },
  {
   "cell_type": "code",
   "execution_count": null,
   "metadata": {},
   "outputs": [],
   "source": [
    "# I'LL UPDATE THE FINDER. BECAUSE SOME OF PLAYLIST'S USING DIFFERENT TAGS."
   ]
  }
 ],
 "metadata": {
  "kernelspec": {
   "display_name": "Python 3",
   "language": "python",
   "name": "python3"
  },
  "language_info": {
   "codemirror_mode": {
    "name": "ipython",
    "version": 3
   },
   "file_extension": ".py",
   "mimetype": "text/x-python",
   "name": "python",
   "nbconvert_exporter": "python",
   "pygments_lexer": "ipython3",
   "version": "3.8.3"
  }
 },
 "nbformat": 4,
 "nbformat_minor": 4
}
